{
 "cells": [
  {
   "cell_type": "markdown",
   "metadata": {},
   "source": [
    "### Note\n",
    "* Instructions have been included for each segment. You do not have to follow them exactly, but they are included to help you think through the steps."
   ]
  },
  {
   "cell_type": "code",
   "execution_count": 1,
   "metadata": {
    "scrolled": true
   },
   "outputs": [
    {
     "data": {
      "text/html": [
       "<div>\n",
       "<style scoped>\n",
       "    .dataframe tbody tr th:only-of-type {\n",
       "        vertical-align: middle;\n",
       "    }\n",
       "\n",
       "    .dataframe tbody tr th {\n",
       "        vertical-align: top;\n",
       "    }\n",
       "\n",
       "    .dataframe thead th {\n",
       "        text-align: right;\n",
       "    }\n",
       "</style>\n",
       "<table border=\"1\" class=\"dataframe\">\n",
       "  <thead>\n",
       "    <tr style=\"text-align: right;\">\n",
       "      <th></th>\n",
       "      <th>Purchase ID</th>\n",
       "      <th>SN</th>\n",
       "      <th>Age</th>\n",
       "      <th>Gender</th>\n",
       "      <th>Item ID</th>\n",
       "      <th>Item Name</th>\n",
       "      <th>Price</th>\n",
       "    </tr>\n",
       "  </thead>\n",
       "  <tbody>\n",
       "    <tr>\n",
       "      <th>0</th>\n",
       "      <td>0</td>\n",
       "      <td>Lisim78</td>\n",
       "      <td>20</td>\n",
       "      <td>Male</td>\n",
       "      <td>108</td>\n",
       "      <td>Extraction, Quickblade Of Trembling Hands</td>\n",
       "      <td>3.53</td>\n",
       "    </tr>\n",
       "    <tr>\n",
       "      <th>1</th>\n",
       "      <td>1</td>\n",
       "      <td>Lisovynya38</td>\n",
       "      <td>40</td>\n",
       "      <td>Male</td>\n",
       "      <td>143</td>\n",
       "      <td>Frenzied Scimitar</td>\n",
       "      <td>1.56</td>\n",
       "    </tr>\n",
       "    <tr>\n",
       "      <th>2</th>\n",
       "      <td>2</td>\n",
       "      <td>Ithergue48</td>\n",
       "      <td>24</td>\n",
       "      <td>Male</td>\n",
       "      <td>92</td>\n",
       "      <td>Final Critic</td>\n",
       "      <td>4.88</td>\n",
       "    </tr>\n",
       "    <tr>\n",
       "      <th>3</th>\n",
       "      <td>3</td>\n",
       "      <td>Chamassasya86</td>\n",
       "      <td>24</td>\n",
       "      <td>Male</td>\n",
       "      <td>100</td>\n",
       "      <td>Blindscythe</td>\n",
       "      <td>3.27</td>\n",
       "    </tr>\n",
       "    <tr>\n",
       "      <th>4</th>\n",
       "      <td>4</td>\n",
       "      <td>Iskosia90</td>\n",
       "      <td>23</td>\n",
       "      <td>Male</td>\n",
       "      <td>131</td>\n",
       "      <td>Fury</td>\n",
       "      <td>1.44</td>\n",
       "    </tr>\n",
       "  </tbody>\n",
       "</table>\n",
       "</div>"
      ],
      "text/plain": [
       "   Purchase ID             SN  Age Gender  Item ID  \\\n",
       "0            0        Lisim78   20   Male      108   \n",
       "1            1    Lisovynya38   40   Male      143   \n",
       "2            2     Ithergue48   24   Male       92   \n",
       "3            3  Chamassasya86   24   Male      100   \n",
       "4            4      Iskosia90   23   Male      131   \n",
       "\n",
       "                                   Item Name  Price  \n",
       "0  Extraction, Quickblade Of Trembling Hands   3.53  \n",
       "1                          Frenzied Scimitar   1.56  \n",
       "2                               Final Critic   4.88  \n",
       "3                                Blindscythe   3.27  \n",
       "4                                       Fury   1.44  "
      ]
     },
     "execution_count": 1,
     "metadata": {},
     "output_type": "execute_result"
    }
   ],
   "source": [
    "# Dependencies and Setup\n",
    "import pandas as pd\n",
    "import numpy as np\n",
    "\n",
    "# File to Load\n",
    "file = \"Resources/purchase_data.csv\"\n",
    "\n",
    "# Read Purchasing File and store into Pandas data frame\n",
    "purchdf = pd.read_csv(file)\n",
    "purchdf.head()"
   ]
  },
  {
   "cell_type": "markdown",
   "metadata": {},
   "source": [
    "## Player Count"
   ]
  },
  {
   "cell_type": "markdown",
   "metadata": {},
   "source": [
    "* Display the total number of players\n"
   ]
  },
  {
   "cell_type": "code",
   "execution_count": 2,
   "metadata": {},
   "outputs": [
    {
     "data": {
      "text/html": [
       "<div>\n",
       "<style scoped>\n",
       "    .dataframe tbody tr th:only-of-type {\n",
       "        vertical-align: middle;\n",
       "    }\n",
       "\n",
       "    .dataframe tbody tr th {\n",
       "        vertical-align: top;\n",
       "    }\n",
       "\n",
       "    .dataframe thead th {\n",
       "        text-align: right;\n",
       "    }\n",
       "</style>\n",
       "<table border=\"1\" class=\"dataframe\">\n",
       "  <thead>\n",
       "    <tr style=\"text-align: right;\">\n",
       "      <th></th>\n",
       "      <th>Total Players</th>\n",
       "    </tr>\n",
       "  </thead>\n",
       "  <tbody>\n",
       "    <tr>\n",
       "      <th>0</th>\n",
       "      <td>576</td>\n",
       "    </tr>\n",
       "  </tbody>\n",
       "</table>\n",
       "</div>"
      ],
      "text/plain": [
       "   Total Players\n",
       "0            576"
      ]
     },
     "execution_count": 2,
     "metadata": {},
     "output_type": "execute_result"
    }
   ],
   "source": [
    "totalplayers = purchdf['SN'].nunique()\n",
    "totalplayersdf = pd.DataFrame(\n",
    "    {\"Total Players\": [totalplayers]})\n",
    "totalplayersdf"
   ]
  },
  {
   "cell_type": "markdown",
   "metadata": {},
   "source": [
    "## Purchasing Analysis (Total)"
   ]
  },
  {
   "cell_type": "markdown",
   "metadata": {},
   "source": [
    "* Run basic calculations to obtain number of unique items, average price, etc.\n",
    "\n",
    "\n",
    "* Create a summary data frame to hold the results\n",
    "\n",
    "\n",
    "* Optional: give the displayed data cleaner formatting\n",
    "\n",
    "\n",
    "* Display the summary data frame\n"
   ]
  },
  {
   "cell_type": "code",
   "execution_count": 3,
   "metadata": {
    "scrolled": true
   },
   "outputs": [
    {
     "data": {
      "text/html": [
       "<div>\n",
       "<style scoped>\n",
       "    .dataframe tbody tr th:only-of-type {\n",
       "        vertical-align: middle;\n",
       "    }\n",
       "\n",
       "    .dataframe tbody tr th {\n",
       "        vertical-align: top;\n",
       "    }\n",
       "\n",
       "    .dataframe thead th {\n",
       "        text-align: right;\n",
       "    }\n",
       "</style>\n",
       "<table border=\"1\" class=\"dataframe\">\n",
       "  <thead>\n",
       "    <tr style=\"text-align: right;\">\n",
       "      <th></th>\n",
       "      <th>Number of Unique Items</th>\n",
       "      <th>Average Price</th>\n",
       "      <th>Number of Purchases</th>\n",
       "      <th>Total Revenue</th>\n",
       "    </tr>\n",
       "  </thead>\n",
       "  <tbody>\n",
       "    <tr>\n",
       "      <th>0</th>\n",
       "      <td>179</td>\n",
       "      <td>$3.05</td>\n",
       "      <td>780</td>\n",
       "      <td>$2,379.77</td>\n",
       "    </tr>\n",
       "  </tbody>\n",
       "</table>\n",
       "</div>"
      ],
      "text/plain": [
       "   Number of Unique Items Average Price  Number of Purchases Total Revenue\n",
       "0                     179         $3.05                  780     $2,379.77"
      ]
     },
     "execution_count": 3,
     "metadata": {},
     "output_type": "execute_result"
    }
   ],
   "source": [
    "#find number of unique items\n",
    "uniqueitems = purchdf['Item Name'].nunique()\n",
    "\n",
    "#find average price per item\n",
    "averageprice = '${:.2f}'.format(purchdf['Price'].mean())\n",
    "\n",
    "#find total number of purchases\n",
    "numberofpurchases = purchdf['Purchase ID'].count()\n",
    "\n",
    "#find the total revenue (sum all prices)\n",
    "totalrevenue = '${:,.2f}'.format(purchdf['Price'].sum())\n",
    "\n",
    "#create a summary dataframe from all the data\n",
    "summarydf = pd.DataFrame(\n",
    "    {\"Number of Unique Items\": [uniqueitems],\n",
    "    \"Average Price\": [averageprice],\n",
    "    \"Number of Purchases\": [numberofpurchases],\n",
    "    \"Total Revenue\": [totalrevenue]})\n",
    "\n",
    "#show summary dataframe\n",
    "summarydf"
   ]
  },
  {
   "cell_type": "markdown",
   "metadata": {},
   "source": [
    "## Gender Demographics"
   ]
  },
  {
   "cell_type": "markdown",
   "metadata": {},
   "source": [
    "* Percentage and Count of Male Players\n",
    "\n",
    "\n",
    "* Percentage and Count of Female Players\n",
    "\n",
    "\n",
    "* Percentage and Count of Other / Non-Disclosed\n",
    "\n",
    "\n"
   ]
  },
  {
   "cell_type": "code",
   "execution_count": 4,
   "metadata": {},
   "outputs": [
    {
     "ename": "NameError",
     "evalue": "name 'totalcount' is not defined",
     "output_type": "error",
     "traceback": [
      "\u001b[1;31m---------------------------------------------------------------------------\u001b[0m",
      "\u001b[1;31mNameError\u001b[0m                                 Traceback (most recent call last)",
      "\u001b[1;32m<ipython-input-4-e7d6bb98f7d3>\u001b[0m in \u001b[0;36m<module>\u001b[1;34m\u001b[0m\n\u001b[0;32m      9\u001b[0m \u001b[1;33m\u001b[0m\u001b[0m\n\u001b[0;32m     10\u001b[0m \u001b[1;31m#create dataframe from above values\u001b[0m\u001b[1;33m\u001b[0m\u001b[1;33m\u001b[0m\u001b[1;33m\u001b[0m\u001b[0m\n\u001b[1;32m---> 11\u001b[1;33m genderdf = pd.DataFrame({\"Total Count\": totalcount, \n\u001b[0m\u001b[0;32m     12\u001b[0m                          \"Percentage of Players\": percentage})\n\u001b[0;32m     13\u001b[0m \u001b[1;33m\u001b[0m\u001b[0m\n",
      "\u001b[1;31mNameError\u001b[0m: name 'totalcount' is not defined"
     ]
    }
   ],
   "source": [
    "#group purchase data by gender\n",
    "genderdata = purchdf.groupby(\"Gender\")\n",
    "\n",
    "#find total number number of each gender by counting screen names\n",
    "gender_totalcount = genderdata.nunique()[\"SN\"]\n",
    "\n",
    "#find percentage each gender makes up of total\n",
    "gender_percentage = (gender_totalcount / totalplayers)*100\n",
    "\n",
    "#create dataframe from above values\n",
    "genderdf = pd.DataFrame({\"Total Count\": totalcount, \n",
    "                         \"Percentage of Players\": percentage})\n",
    "\n",
    "#sort the values so they are from highest to lowest and set percentage values to percent format\n",
    "genderdf = genderdf.sort_values([\"Total Count\"], ascending=False)\n",
    "genderdf = genderdf.style.format({\"Percentage of Players\":\"{:.2f}%\"})\n",
    "\n",
    "#change dataframe index name to blank\n",
    "genderdf.index.name = (\" \")\n",
    "genderdf"
   ]
  },
  {
   "cell_type": "markdown",
   "metadata": {},
   "source": [
    "\n",
    "## Purchasing Analysis (Gender)"
   ]
  },
  {
   "cell_type": "markdown",
   "metadata": {},
   "source": [
    "* Run basic calculations to obtain purchase count, avg. purchase price, avg. purchase total per person etc. by gender\n",
    "\n",
    "\n",
    "\n",
    "\n",
    "* Create a summary data frame to hold the results\n",
    "\n",
    "\n",
    "* Optional: give the displayed data cleaner formatting\n",
    "\n",
    "\n",
    "* Display the summary data frame"
   ]
  },
  {
   "cell_type": "code",
   "execution_count": null,
   "metadata": {},
   "outputs": [],
   "source": [
    "#calculate total purchases, per gender category\n",
    "gender_totalp = genderdata[\"Purchase ID\"].count()\n",
    "\n",
    "#calulate average purchase price, per gender category\n",
    "gender_avgpp = genderdata[\"Price\"].mean()\n",
    "\n",
    "#calculate total purchase value, per gender category\n",
    "gender_totalpv = genderdata[\"Price\"].sum()\n",
    "\n",
    "#calculate average total purchase (price) per player, per gender category\n",
    "gender_avgtppp = gender_totalpv/totalcount\n",
    "\n",
    "#create dataframe from gender summary data      \n",
    "gensummarydf = pd.DataFrame(\n",
    "    {\"Purchase Count\": gender_totalp,\n",
    "     \"Average Purchase Price\": gender_avgpp,\n",
    "     \"Total Purchase Value\": gender_totalpv,\n",
    "     \"Average Total Purchase per Person\": gender_avgtppp})\n",
    "\n",
    "#sort the values so they are from highest to lowest and set money values to currency format\n",
    "gensummarydf = gensummarydf.sort_values([\"Purchase Count\"], ascending=False)\n",
    "gensummarydf = gensummarydf.style.format({\"Average Purchase Price\":\"${:,.2f}\",\n",
    "                                          \"Total Purchase Value\":\"${:,.2f}\",\n",
    "                                          \"Average Total Purchase per Person\":\"${:,.2f}\"})\n",
    "gensummarydf"
   ]
  },
  {
   "cell_type": "markdown",
   "metadata": {},
   "source": [
    "## Age Demographics"
   ]
  },
  {
   "cell_type": "markdown",
   "metadata": {},
   "source": [
    "* Establish bins for ages\n",
    "\n",
    "\n",
    "* Categorize the existing players using the age bins. Hint: use pd.cut()\n",
    "\n",
    "\n",
    "* Calculate the numbers and percentages by age group\n",
    "\n",
    "\n",
    "* Create a summary data frame to hold the results\n",
    "\n",
    "\n",
    "* Optional: round the percentage column to two decimal points\n",
    "\n",
    "\n",
    "* Display Age Demographics Table\n"
   ]
  },
  {
   "cell_type": "code",
   "execution_count": null,
   "metadata": {},
   "outputs": [],
   "source": [
    "#create ago bins\n",
    "ages = [0, 9.90, 14.90, 19.90, 24.90, 29.90, 34.90, 39.90, 99999]\n",
    "groups = [\"<10\", \"10-14\", \"15-19\", \"20-24\", \"25-29\", \"30-34\", \"35-39\", \"40+\"]\n",
    "\n",
    "#categorize players in the age bins\n",
    "purchdf[\"Age Group\"] = pd.cut(purchdf[\"Age\"], ages, labels=groups)\n",
    "\n",
    "#create dataframe with players grouped by age\n",
    "agegroups_df = purchdf.groupby(\"Age Group\")\n",
    "\n",
    "#find total number of players in each age group\n",
    "totalages = agegroups_df[\"SN\"].nunique()\n",
    "\n",
    "#find the percentage each age group makes up of total\n",
    "percent_ages = (totalages / totalplayers)*100\n",
    "\n",
    "#create dataframe with these value\n",
    "agedata_df = pd.DataFrame(\n",
    "    {\"Total Count\": totalages,\n",
    "     \"Percentage of Players\": percent_ages})\n",
    "\n",
    "#format percentage values\n",
    "agedata_df = agedata_df.style.format({\"Percentage of Players\":\"{:,.2f}%\"})\n",
    "\n",
    "agedata_df\n"
   ]
  },
  {
   "cell_type": "markdown",
   "metadata": {},
   "source": [
    "## Purchasing Analysis (Age)"
   ]
  },
  {
   "cell_type": "markdown",
   "metadata": {},
   "source": [
    "* Bin the purchase_data data frame by age\n",
    "\n",
    "\n",
    "* Run basic calculations to obtain purchase count, avg. purchase price, avg. purchase total per person etc. in the table below\n",
    "\n",
    "\n",
    "* Create a summary data frame to hold the results\n",
    "\n",
    "\n",
    "* Optional: give the displayed data cleaner formatting\n",
    "\n",
    "\n",
    "* Display the summary data frame"
   ]
  },
  {
   "cell_type": "code",
   "execution_count": null,
   "metadata": {},
   "outputs": [],
   "source": [
    "#purchase data df already binned in previous section\n",
    "\n",
    "#find purchase count, per age group\n",
    "age_totalp = agegroups_df[\"Purchase ID\"].count()\n",
    "\n",
    "#find average purchase price, per age group\n",
    "age_avgpp = agegroups_df[\"Price\"].mean()\n",
    "\n",
    "#find the total purchase value, per age group\n",
    "age_totalpv = agegroups_df[\"Price\"].sum()\n",
    "\n",
    "#fine the average total purchase (price) per player, per age group\n",
    "age_avgtppp = age_totalpv/totalages\n",
    "\n",
    "#create dataframe from gender summary data      \n",
    "agesummary_df = pd.DataFrame(\n",
    "    {\"Purchase Count\": age_totalp,\n",
    "     \"Average Purchase Price\": age_avgpp,\n",
    "     \"Total Purchase Value\": age_totalpv,\n",
    "     \"Average Total Purchase per Person\": age_avgtppp})\n",
    "\n",
    "#format money values to currency \n",
    "agesummary_df = agesummary_df.style.format({\"Average Purchase Price\":\"${:,.2f}\",\n",
    "                                          \"Total Purchase Value\":\"${:,.2f}\",\n",
    "                                          \"Average Total Purchase per Person\":\"${:,.2f}\"})\n",
    "agesummary_df"
   ]
  },
  {
   "cell_type": "markdown",
   "metadata": {},
   "source": [
    "## Top Spenders"
   ]
  },
  {
   "cell_type": "markdown",
   "metadata": {},
   "source": [
    "* Run basic calculations to obtain the results in the table below\n",
    "\n",
    "\n",
    "* Create a summary data frame to hold the results\n",
    "\n",
    "\n",
    "* Sort the total purchase value column in descending order\n",
    "\n",
    "\n",
    "* Optional: give the displayed data cleaner formatting\n",
    "\n",
    "\n",
    "* Display a preview of the summary data frame\n",
    "\n"
   ]
  },
  {
   "cell_type": "code",
   "execution_count": null,
   "metadata": {},
   "outputs": [],
   "source": [
    "#group by screen name (aka individual player/spender)\n",
    "sndata = purchdf.groupby(\"SN\")\n",
    "\n",
    "#calculate total purchases, per player\n",
    "sn_totalp = sndata[\"Purchase ID\"].count()\n",
    "\n",
    "#calulate average purchase price, per player\n",
    "sn_avgpp = sndata[\"Price\"].mean()\n",
    "\n",
    "#calculate total purchase value, per player\n",
    "sn_totalpv = sndata[\"Price\"].sum()\n",
    "\n",
    "#create dataframe from player summary data      \n",
    "snsummary_df = pd.DataFrame(\n",
    "    {\"Purchase Count\": sn_totalp,\n",
    "     \"Average Purchase Price\": sn_avgpp,\n",
    "     \"Total Purchase Value\": sn_totalpv})\n",
    "\n",
    "#sort table from highest to lowest by purchase count\n",
    "snsummary_df = snsummary_df.sort_values(\"Purchase Count\", ascending=False)\n",
    "\n",
    "#create temp dataframe to format money values to currency and show preview\n",
    "#apparently you can't use .head() on a \"stylized\" dataframe\n",
    "snsum_df_ = snsummary_df.head().style.format({\"Average Purchase Price\":\"${:,.2f}\",\n",
    "                                              \"Total Purchase Value\":\"${:,.2f}\"})\n",
    "snsum_df_"
   ]
  },
  {
   "cell_type": "markdown",
   "metadata": {},
   "source": [
    "## Most Popular Items"
   ]
  },
  {
   "cell_type": "markdown",
   "metadata": {},
   "source": [
    "* Retrieve the Item ID, Item Name, and Item Price columns\n",
    "\n",
    "\n",
    "* Group by Item ID and Item Name. Perform calculations to obtain purchase count, average item price, and total purchase value\n",
    "\n",
    "\n",
    "* Create a summary data frame to hold the results\n",
    "\n",
    "\n",
    "* Sort the purchase count column in descending order\n",
    "\n",
    "\n",
    "* Optional: give the displayed data cleaner formatting\n",
    "\n",
    "\n",
    "* Display a preview of the summary data frame\n",
    "\n"
   ]
  },
  {
   "cell_type": "code",
   "execution_count": null,
   "metadata": {},
   "outputs": [],
   "source": [
    "#create dataframe from item id, item name, and item price\n",
    "itemdf = purchdf[[\"Item ID\", \"Item Name\", \"Price\"]]\n",
    "\n",
    "#group new dataframe by item id and name\n",
    "itemdata = itemdf.groupby([\"Item ID\", \"Item Name\"])\n",
    "\n",
    "#calculate total purchases, per item\n",
    "item_totalp = itemdata[\"Price\"].count()\n",
    "\n",
    "#calculate total purchase value, per item\n",
    "item_totalpv = itemdata[\"Price\"].sum()\n",
    "\n",
    "#find each items price... since you can't directly reference it in:\n",
    "#divide the sum of all prices by the total number of purchases\n",
    "item_price = item_totalpv/item_totalp\n",
    "\n",
    "#create dataframe from item summary data      \n",
    "itemsummary_df = pd.DataFrame(\n",
    "    {\"Purchase Count\": item_totalp,\n",
    "     \"Item Price\": item_price,\n",
    "     \"Total Purchase Value\": item_totalpv})\n",
    "\n",
    "#sort table from highest to lowest by purchase count \n",
    "itemsummary_df = itemsummary_df.sort_values(\"Purchase Count\", ascending=False)\n",
    "\n",
    "#create dataframe to format money values to currency and show preview\n",
    "itemsum_df_ = itemsummary_df.head().style.format({\"Item Price\":\"${:,.2f}\",\n",
    "                                                  \"Total Purchase Value\":\"${:,.2f}\"})\n",
    "itemsum_df_"
   ]
  },
  {
   "cell_type": "markdown",
   "metadata": {},
   "source": [
    "## Most Profitable Items"
   ]
  },
  {
   "cell_type": "markdown",
   "metadata": {},
   "source": [
    "* Sort the above table by total purchase value in descending order\n",
    "\n",
    "\n",
    "* Optional: give the displayed data cleaner formatting\n",
    "\n",
    "\n",
    "* Display a preview of the data frame\n",
    "\n"
   ]
  },
  {
   "cell_type": "code",
   "execution_count": null,
   "metadata": {
    "scrolled": true
   },
   "outputs": [],
   "source": [
    "#sort table from highest to lowest by total purchase value \n",
    "itemsummary_df = itemsummary_df.sort_values(\"Total Purchase Value\", ascending=False)\n",
    "\n",
    "#create another new dataframe to format money values to currency and show preview\n",
    "itemsum_df_2 = itemsummary_df.head().style.format({\"Item Price\":\"${:,.2f}\",\n",
    "                                                  \"Total Purchase Value\":\"${:,.2f}\"})\n",
    "itemsum_df_2"
   ]
  },
  {
   "cell_type": "code",
   "execution_count": null,
   "metadata": {},
   "outputs": [],
   "source": []
  }
 ],
 "metadata": {
  "anaconda-cloud": {},
  "kernel_info": {
   "name": "python3"
  },
  "kernelspec": {
   "display_name": "pythondata",
   "language": "python",
   "name": "pythondata"
  },
  "language_info": {
   "codemirror_mode": {
    "name": "ipython",
    "version": 3
   },
   "file_extension": ".py",
   "mimetype": "text/x-python",
   "name": "python",
   "nbconvert_exporter": "python",
   "pygments_lexer": "ipython3",
   "version": "3.8.8"
  },
  "latex_envs": {
   "LaTeX_envs_menu_present": true,
   "autoclose": false,
   "autocomplete": true,
   "bibliofile": "biblio.bib",
   "cite_by": "apalike",
   "current_citInitial": 1,
   "eqLabelWithNumbers": true,
   "eqNumInitial": 1,
   "hotkeys": {
    "equation": "Ctrl-E",
    "itemize": "Ctrl-I"
   },
   "labels_anchors": false,
   "latex_user_defs": false,
   "report_style_numbering": false,
   "user_envs_cfg": false
  },
  "nteract": {
   "version": "0.2.0"
  }
 },
 "nbformat": 4,
 "nbformat_minor": 2
}
